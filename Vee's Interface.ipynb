{
 "cells": [
  {
   "cell_type": "code",
   "execution_count": 1,
   "id": "e126fff9",
   "metadata": {},
   "outputs": [],
   "source": [
    "import datetime\n",
    "def menu_intro():\n",
    "    print(\"Welcome to Warkop Vilej Point of Sales...\")\n",
    "    print(\"Here are the letters assigned for each item: \\n\")\n",
    "    print('{0:14} | {1:^9}'.format('Items', 'Letter'))\n",
    "    print('{0:14} | {1:^9}'.format('Tea', 'A'))\n",
    "    print('{0:14} | {1:^9}'.format('Milk Tea', 'B'))\n",
    "    print('{0:14} | {1:^9}'.format('Black Coffee', 'C'))\n",
    "    print('{0:14} | {1:^9}'.format('Plain Noodle', 'D'))\n",
    "    print('{0:14} | {1:^9}'.format('Milk Coffee', 'E'))\n",
    "    print('{0:14} | {1:^9}'.format('Noodle w/ Egg', 'F'))\n",
    "    print('{0:14} | {1:^9}'.format('Thai Tea', 'G'))\n",
    "    print(\"\\n\")\n",
    "    now = datetime.datetime.now()\n",
    "    date = f\"{now.day}/{now.month}/{now.year}\"\n",
    "    time = f\"{now.hour}:{now.minute}:{now.second}\"\n",
    "    admin = input (\"Hello there, who's in charge? \")\n",
    "    print (f\"\\nHello {admin}, what's the order? (by the way, we're case insensitive so just type it in and don't worry about the caps)\" )\n",
    "    return date,time,admin"
   ]
  },
  {
   "cell_type": "code",
   "execution_count": 2,
   "id": "faf58952",
   "metadata": {},
   "outputs": [],
   "source": [
    "def menu_intro2():\n",
    "    print(\"Here are the letters assigned for each item: \\n\")\n",
    "    print('{0:14} | {1:^9}'.format('Items', 'Letter'))\n",
    "    print('{0:14} | {1:^9}'.format('Tea', 'A'))\n",
    "    print('{0:14} | {1:^9}'.format('Milk Tea', 'B'))\n",
    "    print('{0:14} | {1:^9}'.format('Black Coffee', 'C'))\n",
    "    print('{0:14} | {1:^9}'.format('Plain Noodle', 'D'))\n",
    "    print('{0:14} | {1:^9}'.format('Milk Coffee', 'E'))\n",
    "    print('{0:14} | {1:^9}'.format('Noodle w/ Egg', 'F'))\n",
    "    print('{0:14} | {1:^9}'.format('Thai Tea', 'G'))"
   ]
  },
  {
   "cell_type": "code",
   "execution_count": 3,
   "id": "cc2bf856",
   "metadata": {},
   "outputs": [],
   "source": [
    "def order_taken(menu_list):\n",
    "    from IPython.display import clear_output\n",
    "    ordered = []\n",
    "    quantity = []\n",
    "    adding_prompt='Y'\n",
    "    while adding_prompt == 'Y':\n",
    "        ordering = input(\"\\nType in the letter here: \")\n",
    "        number = int(input(f\"Type in the quantity of {menu_list[ordering.upper()]} here: \"))\n",
    "        print(\"Anything else?\")\n",
    "        prompt = 'check'\n",
    "        while prompt not in ['Y','N']:\n",
    "            prompt = input(\"Enter 'Y' for yes and 'N' for no: \").upper()\n",
    "            if prompt not in ['Y','N']: \n",
    "                    print(\"Oops, wrong key. \")\n",
    "        ordered.append(ordering.upper())\n",
    "        quantity.append(number)\n",
    "        adding_prompt = prompt\n",
    "        clear_output()\n",
    "        menu_intro2()\n",
    "    clear_output()\n",
    "    return ordered, quantity"
   ]
  },
  {
   "cell_type": "code",
   "execution_count": 4,
   "id": "81e3ef0c",
   "metadata": {},
   "outputs": [],
   "source": [
    "def billing(price_list, order_list, quantity_list):\n",
    "    price_per_item = [ price_list[price] for price in order_list]\n",
    "    total_list = list(zip(price_per_item,quantity_list,order_list))\n",
    "    billed = [price*quantity for price,quantity,order in total_list]\n",
    "    return total_list, billed"
   ]
  },
  {
   "cell_type": "code",
   "execution_count": 5,
   "id": "50da2f6f",
   "metadata": {},
   "outputs": [],
   "source": [
    "def cash_in(total_item, menu_list, bill):\n",
    "    print(f\"\\nAlright, so you've ordered...\\n\")\n",
    "    for price,quantity,order in total_item:\n",
    "        print(f\"{quantity} {menu_list[order]}\")\n",
    "    print(f\"\\n That'll be {sum(bill)} k. Here's your receipt: \\n\")\n",
    "    print(\"  \\\\//{0:^5}   {1:^13}   {2:^5}\\\\//\\n\".format(\" \", \"Warkop Vilej\",\" \"))\n",
    "    print(f\"Date: {date} \\nTime: {time} \\nAdmin: {admin}\\n\")\n",
    "    print(\"{0:13} | {1:^7} | {2:^5} | {3:^5}\".format(\"Sale Item\",\"Price\",\"Qty\",\"Total\"))\n",
    "    for price,quantity,order in total_item:\n",
    "        print(\"{0:13} | Rp. {1:^2} k| {2:^5} | Rp. {3:^3} k\".format(menu_list[order],price,quantity,price*quantity))\n",
    "    print(\"{0:^13}     {1:^5}   {2:^5} : Rp. {3:^3} k\".format(\" \",\" \",\"nett\",sum(bill)))\n",
    "    "
   ]
  },
  {
   "cell_type": "code",
   "execution_count": null,
   "id": "65d52cfa",
   "metadata": {},
   "outputs": [
    {
     "name": "stdout",
     "output_type": "stream",
     "text": [
      "Welcome to Warkop Vilej Point of Sales...\n",
      "Here are the letters assigned for each item: \n",
      "\n",
      "Items          |  Letter  \n",
      "Tea            |     A    \n",
      "Milk Tea       |     B    \n",
      "Black Coffee   |     C    \n",
      "Plain Noodle   |     D    \n",
      "Milk Coffee    |     E    \n",
      "Noodle w/ Egg  |     F    \n",
      "Thai Tea       |     G    \n",
      "\n",
      "\n",
      "Hello there, who's in charge? Hanif\n",
      "\n",
      "Hello Hanif, what's the order? (by the way, we're case insensitive so just type it in and don't worry about the caps)\n",
      "\n",
      "Type in the letter here: A\n"
     ]
    }
   ],
   "source": [
    "price_list = {'A':5,'B':7, 'C':8,'D':9,'E':10,'F':12,'G':15}\n",
    "menu_list = {'A':'Tea','B':'Milk Tea', 'C':'Black Coffee','D':'Plain Noodle','E':'Milk Coffee','F':'Noodle w/ Egg','G':'Thai Tea'}\n",
    "\n",
    "(date,time,admin) = menu_intro()\n",
    "\n",
    "(order_list,quantity_list) = order_taken(menu_list)\n",
    "    \n",
    "(total_item,bill) = billing(price_list, order_list, quantity_list)\n",
    "    \n",
    "cash_in(total_item, menu_list, bill)\n"
   ]
  },
  {
   "cell_type": "code",
   "execution_count": null,
   "id": "04aefb69",
   "metadata": {},
   "outputs": [],
   "source": [
    "accounted = open('nov17.txt', mode = 'w+')\n",
    "accounted.write('\\n\\nDate: ,'+date+'\\nAdmin: ,'+admin)\n",
    "for price,quantity,order in total_item:\n",
    "    orderacc=str(menu_list[order])\n",
    "    priceacc=str(price)\n",
    "    quantityacc=str(quantity)\n",
    "    totalin=str(price*quantity)\n",
    "    accounted.write('\\n'+priceacc+', '+quantityacc+', '+totalin+', '+orderacc)\n",
    "accounted.write('\\n   Nett: ,'+str(sum(bill)))\n",
    "print(orderacc+' '+priceacc+' '+quantityacc+' '+totalin)\n",
    "accounted.close()"
   ]
  },
  {
   "cell_type": "code",
   "execution_count": null,
   "id": "dbc1372e",
   "metadata": {},
   "outputs": [],
   "source": [
    "type(admin)"
   ]
  },
  {
   "cell_type": "code",
   "execution_count": null,
   "id": "3d197c8e",
   "metadata": {},
   "outputs": [],
   "source": [
    "admin"
   ]
  },
  {
   "cell_type": "code",
   "execution_count": null,
   "id": "d3595ff8",
   "metadata": {},
   "outputs": [],
   "source": [
    "date"
   ]
  },
  {
   "cell_type": "code",
   "execution_count": null,
   "id": "11b53723",
   "metadata": {},
   "outputs": [],
   "source": [
    "pwd"
   ]
  },
  {
   "cell_type": "code",
   "execution_count": null,
   "id": "44a1acd0",
   "metadata": {},
   "outputs": [],
   "source": [
    "import datetime\n",
    "now = datetime.datetime.now()\n",
    "date = f\"{now.day}/{now.month}/{now.year}\"\n",
    "time = f\"{now.hour}:{now.minute}:{now.second}\"\n",
    "\n",
    "print(time)"
   ]
  },
  {
   "cell_type": "code",
   "execution_count": null,
   "id": "56b83d55",
   "metadata": {},
   "outputs": [],
   "source": []
  }
 ],
 "metadata": {
  "kernelspec": {
   "display_name": "Python 3 (ipykernel)",
   "language": "python",
   "name": "python3"
  },
  "language_info": {
   "codemirror_mode": {
    "name": "ipython",
    "version": 3
   },
   "file_extension": ".py",
   "mimetype": "text/x-python",
   "name": "python",
   "nbconvert_exporter": "python",
   "pygments_lexer": "ipython3",
   "version": "3.9.7"
  }
 },
 "nbformat": 4,
 "nbformat_minor": 5
}
